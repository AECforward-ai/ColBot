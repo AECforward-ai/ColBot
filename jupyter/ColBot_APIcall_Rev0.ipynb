{
 "cells": [
  {
   "cell_type": "markdown",
   "id": "87b68199",
   "metadata": {},
   "source": [
    "# ColBot APIs\n",
    "\n",
    "The API can be called directly into Jupyter / python / C# using a HTTP POST request\n",
    "The example below is requesting the column with the lowest embodied carbon. The column support a load of 5000 kN and has a buckling length of 4000mm ."
   ]
  },
  {
   "cell_type": "code",
   "execution_count": 29,
   "id": "1c04bebc",
   "metadata": {},
   "outputs": [
    {
     "data": {
      "text/plain": [
       "[{'Comments': 'OK',\n",
       "  'Ly': 4000,\n",
       "  'My1': 0,\n",
       "  'Mz1': 0,\n",
       "  'N': 5000000,\n",
       "  'Section': 'UC305x305x118',\n",
       "  'Umax': 0.8900674398667009,\n",
       "  'grade': 'S460Histar - EAF',\n",
       "  'objective': 'carbon'}]"
      ]
     },
     "metadata": {},
     "output_type": "display_data"
    }
   ],
   "source": [
    "import pandas as pd\n",
    "import requests\n",
    "path = 'https://colbotapi.herokuapp.com/colbot'\n",
    "inputJson = {'objective':'carbon', 'N':5000000,'My1':0,'Ly':4000, 'Mz1':0}\n",
    "res = requests.post(path, json = inputJson)\n",
    "display(res.json())"
   ]
  },
  {
   "cell_type": "markdown",
   "id": "371611d3",
   "metadata": {},
   "source": [
    "Another usefull API in colbot is SectionProperty which allows to get the section properties  \n",
    "For example; cost, carbon, weight, h, Iy, ..."
   ]
  },
  {
   "cell_type": "code",
   "execution_count": 30,
   "id": "d7d6b1b0",
   "metadata": {},
   "outputs": [
    {
     "data": {
      "text/plain": [
       "[{'description': 'UC305x305x118 S460Histar - EAF carbon 70 kg/m',\n",
       "  'value': 70.0}]"
      ]
     },
     "metadata": {},
     "output_type": "display_data"
    }
   ],
   "source": [
    "path = 'https://api.aecforward.ai/SectionProperty'\n",
    "inputJson = [{\"section\" : \"UC305x305x118\", \"grade\" : \"S460Hi\", \"property\": \"carbon\"}]\n",
    "res = requests.post(path, json = inputJson)\n",
    "display(res.json())"
   ]
  },
  {
   "cell_type": "markdown",
   "id": "4111f45b",
   "metadata": {},
   "source": [
    "## Using dataframe\n",
    "\n",
    "It is obvioulsy possible to use dataframes as shown below:"
   ]
  },
  {
   "cell_type": "code",
   "execution_count": 35,
   "id": "35a50b7c",
   "metadata": {},
   "outputs": [
    {
     "data": {
      "text/html": [
       "<div>\n",
       "<style scoped>\n",
       "    .dataframe tbody tr th:only-of-type {\n",
       "        vertical-align: middle;\n",
       "    }\n",
       "\n",
       "    .dataframe tbody tr th {\n",
       "        vertical-align: top;\n",
       "    }\n",
       "\n",
       "    .dataframe thead th {\n",
       "        text-align: right;\n",
       "    }\n",
       "</style>\n",
       "<table border=\"1\" class=\"dataframe\">\n",
       "  <thead>\n",
       "    <tr style=\"text-align: right;\">\n",
       "      <th></th>\n",
       "      <th>Comments</th>\n",
       "      <th>Ly</th>\n",
       "      <th>My1</th>\n",
       "      <th>Mz1</th>\n",
       "      <th>N</th>\n",
       "      <th>Section</th>\n",
       "      <th>Umax</th>\n",
       "      <th>grade</th>\n",
       "      <th>objective</th>\n",
       "    </tr>\n",
       "  </thead>\n",
       "  <tbody>\n",
       "    <tr>\n",
       "      <th>0</th>\n",
       "      <td>OK</td>\n",
       "      <td>4000</td>\n",
       "      <td>0</td>\n",
       "      <td>0</td>\n",
       "      <td>5000000</td>\n",
       "      <td>UC305x305x118</td>\n",
       "      <td>0.890067</td>\n",
       "      <td>S460Histar - EAF</td>\n",
       "      <td>carbon</td>\n",
       "    </tr>\n",
       "    <tr>\n",
       "      <th>1</th>\n",
       "      <td>OK</td>\n",
       "      <td>4000</td>\n",
       "      <td>0</td>\n",
       "      <td>0</td>\n",
       "      <td>5000000</td>\n",
       "      <td>UC356x368x153</td>\n",
       "      <td>0.908011</td>\n",
       "      <td>S355J0 - BOF</td>\n",
       "      <td>weight_S355</td>\n",
       "    </tr>\n",
       "  </tbody>\n",
       "</table>\n",
       "</div>"
      ],
      "text/plain": [
       "  Comments    Ly  My1  Mz1        N        Section      Umax  \\\n",
       "0       OK  4000    0    0  5000000  UC305x305x118  0.890067   \n",
       "1       OK  4000    0    0  5000000  UC356x368x153  0.908011   \n",
       "\n",
       "              grade    objective  \n",
       "0  S460Histar - EAF       carbon  \n",
       "1      S355J0 - BOF  weight_S355  "
      ]
     },
     "metadata": {},
     "output_type": "display_data"
    }
   ],
   "source": [
    "cases = {('N'): [5000000,5000000], ('My1'): [0,0] , ('Mz1'): [0,0] , ('Ly'): [4000,4000], ('objective'): ['carbon', 'weight_S355'] }\n",
    "df = pd.DataFrame(cases)\n",
    "inputJson = df.to_dict(orient = 'records')\n",
    "path = 'https://colbotapi.herokuapp.com/colbot'\n",
    "res = requests.post(path, json = inputJson)\n",
    "display(pd.json_normalize(res.json()))"
   ]
  },
  {
   "cell_type": "markdown",
   "id": "153e805e",
   "metadata": {},
   "source": [
    "\n",
    "\n",
    "## HTTP answers\n",
    "If no answer are provided, it is possible to display the type of HTTP answer of the API  \n",
    "200 >>  OK. It worked.  \n",
    "404 >> Requested URL not found  \n",
    "500 >> Internal Server Error  \n",
    "503 >> Service Unavailable  \n"
   ]
  },
  {
   "cell_type": "code",
   "execution_count": 37,
   "id": "89b738b2",
   "metadata": {},
   "outputs": [
    {
     "name": "stdout",
     "output_type": "stream",
     "text": [
      "<Response [200]>\n"
     ]
    }
   ],
   "source": [
    "print(res)"
   ]
  },
  {
   "cell_type": "markdown",
   "id": "8e57e043",
   "metadata": {},
   "source": [
    "\n",
    "\n",
    "\n",
    "## ColBot – Readme\n",
    "\n",
    "#### Questions? Comments? or want full detailed calculations?  \n",
    "Please email us at bots@AECforward.ai.\n",
    "\n",
    "#### What is this about  \n",
    "ColBot is predicting the best structural steel column (UK market). The column of height Ly is loaded by an axial force N and some bending moments.\n",
    "The best selected columns have different grades S355, S460 and different steel making processes BOF (basic oxygene furnace) or EAF (Electric Arc Furnace). \n",
    "The option weight_S355 corresponds to a baseline basic design using S355. \n",
    "The carbon option considers the embodied carbon for the production stages A1-A3.\n",
    "\n",
    "\n",
    "#### Disclaimer  \n",
    "AECforward.ai own all intellectual property rights to the apps, API, components associated with ColBot.\n",
    "This design has been generated automatically using a machine learning process and hence is approximate.\n",
    "Steel raw material varies and depends on market conditions. Cost estimates are provided for information only and are based on average user’s input or specific inputs. \n",
    "The Information provided is for Informational/Educational purposes only and should not be treated as a substitute for or replacement of professional structural engineering advice.\n",
    "AECforward cannot be held responsible for commercial use of the information provided.\n",
    "\n",
    "\n"
   ]
  },
  {
   "cell_type": "code",
   "execution_count": null,
   "id": "2d3e02ee",
   "metadata": {},
   "outputs": [],
   "source": []
  }
 ],
 "metadata": {
  "kernelspec": {
   "display_name": "Python 3",
   "language": "python",
   "name": "python3"
  },
  "language_info": {
   "codemirror_mode": {
    "name": "ipython",
    "version": 3
   },
   "file_extension": ".py",
   "mimetype": "text/x-python",
   "name": "python",
   "nbconvert_exporter": "python",
   "pygments_lexer": "ipython3",
   "version": "3.8.8"
  }
 },
 "nbformat": 4,
 "nbformat_minor": 5
}
